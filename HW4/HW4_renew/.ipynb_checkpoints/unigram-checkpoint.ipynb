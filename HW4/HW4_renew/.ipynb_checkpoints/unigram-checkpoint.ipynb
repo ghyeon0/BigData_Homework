{
 "cells": [
  {
   "cell_type": "code",
   "execution_count": 1,
   "metadata": {},
   "outputs": [],
   "source": [
    "from wordcloud import WordCloud\n",
    "import re\n",
    "from operator import itemgetter\n",
    "import time\n",
    "from PIL import Image"
   ]
  },
  {
   "cell_type": "code",
   "execution_count": 2,
   "metadata": {},
   "outputs": [],
   "source": [
    "class Unigram:\n",
    "    def __init__(self, data):\n",
    "        self.data = data\n",
    "    \n",
    "    def parse_data(self):\n",
    "        sample_data = self.data\n",
    "        sample_data = sample_data.replace(\"\\n\", \" \").replace(\"\\r\", \" \")\n",
    "        sample_data = re.sub('[-=+,#/\\?:^$.@*\\\"※~&%ㆍ!』\\\\‘|\\(\\)\\[\\]\\<\\>`\\'…》]', '', sample_data)\n",
    "        sample_data = sample_data.split()\n",
    "        parsed_data = []\n",
    "\n",
    "        for each in sample_data:\n",
    "            if each != \" \":\n",
    "                parsed_data.append(each)\n",
    "        return parsed_data\n",
    "    \n",
    "    def main(self):\n",
    "        start = time.time()\n",
    "        parsed_data = self.parse_data()\n",
    "        print(\"Unigram Data Parsing Time:\", time.time() - start)\n",
    "        count = self.get_unigram_data(parsed_data)\n",
    "        print(\"Unigram Total Time:\", time.time() - start)\n",
    "        self.make_unigram_wordcloud(count)\n",
    "    \n",
    "    def get_unigram_data(self, parsed_data):\n",
    "        word_count_dic = {}\n",
    "        for each in parsed_data:\n",
    "            if each not in word_count_dic:\n",
    "                word_count_dic[each] = 1\n",
    "            else:\n",
    "                word_count_dic[each] += 1\n",
    "        \n",
    "        total_length = len(word_count_dic.keys())\n",
    "        upper_ten = 0\n",
    "        upper_three = 0\n",
    "        \n",
    "        for key in word_count_dic.keys():\n",
    "            if word_count_dic[key] >= 3:\n",
    "                upper_three += 1\n",
    "            if word_count_dic[key] >= 10:\n",
    "                upper_ten += 1\n",
    "        \n",
    "        f = open(\"./Unigram/unigram_frequency.txt\", 'w', encoding=\"utf-8\")\n",
    "        f.write(\"총 Unigram 수: \" + str(total_length) + \"\\n\")\n",
    "        f.write(\"빈도가 10 이상인 Unigram 수: \" + str(upper_ten) + \"\\n\")\n",
    "        f.write(\"빈도가 3 이상인 Unigram 수: \" + str(upper_three) + \"\\n\")\n",
    "        sorted_word_count_dic = sorted(word_count_dic.items(), key=itemgetter(1), reverse=True)\n",
    "        for each in sorted_word_count_dic[:1000]:\n",
    "            f.write(str(each) + \"\\n\")\n",
    "        f.close()\n",
    "        return word_count_dic        \n",
    "\n",
    "    def make_unigram_wordcloud(self, count):\n",
    "        wordcloud = WordCloud(\n",
    "            font_path = '../d2coding.ttf',\n",
    "            width = 800,\n",
    "            height = 800,\n",
    "            background_color = \"white\"\n",
    "        )\n",
    "        gen = wordcloud.generate_from_frequencies(count)\n",
    "        array = gen.to_array()\n",
    "        self.save_as_image(array)\n",
    "\n",
    "    def show_as_image(self, data):\n",
    "        import matplotlib.pyplot as plt\n",
    "        plt.imshow(data, interpolation=\"bilinear\")\n",
    "        plt.axis(\"off\")\n",
    "        plt.show()\n",
    "\n",
    "    def save_as_image(self, data):\n",
    "        im = Image.fromarray(data)\n",
    "        im.save(\"./Unigram/unigram_wordcloud.jpg\")"
   ]
  },
  {
   "cell_type": "code",
   "execution_count": 3,
   "metadata": {},
   "outputs": [
    {
     "name": "stdout",
     "output_type": "stream",
     "text": [
      "Unigram Data Parsing Time: 7.262531280517578\n",
      "Unigram Total Time: 19.530938148498535\n"
     ]
    }
   ],
   "source": [
    "if __name__ == \"__main__\":\n",
    "    f = open(\"../KCCq28.txt\", 'r', encoding=\"utf-8\")\n",
    "    txt = f.read()\n",
    "    f.close()\n",
    "    uni = Unigram(txt)\n",
    "    uni.main()"
   ]
  },
  {
   "cell_type": "code",
   "execution_count": null,
   "metadata": {},
   "outputs": [],
   "source": []
  }
 ],
 "metadata": {
  "kernelspec": {
   "display_name": "Python 3",
   "language": "python",
   "name": "python3"
  },
  "language_info": {
   "codemirror_mode": {
    "name": "ipython",
    "version": 3
   },
   "file_extension": ".py",
   "mimetype": "text/x-python",
   "name": "python",
   "nbconvert_exporter": "python",
   "pygments_lexer": "ipython3",
   "version": "3.6.7"
  }
 },
 "nbformat": 4,
 "nbformat_minor": 2
}
