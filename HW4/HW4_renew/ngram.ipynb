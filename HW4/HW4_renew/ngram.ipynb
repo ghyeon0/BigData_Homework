{
 "cells": [
  {
   "cell_type": "code",
   "execution_count": 1,
   "metadata": {},
   "outputs": [],
   "source": [
    "import re\n",
    "import time\n",
    "import save_counts_wordcloud"
   ]
  },
  {
   "cell_type": "code",
   "execution_count": 2,
   "metadata": {},
   "outputs": [],
   "source": [
    "class Ngram:\n",
    "    def __init__(self, data):\n",
    "        self.data = data\n",
    "        self.unigram_count = {}\n",
    "        self.bigram_count = {}\n",
    "        self.trigram_count = {}\n",
    "        \n",
    "    def parse_and_count(self):\n",
    "        sample_data = self.data\n",
    "        sample_data = sample_data.replace(\"\\n\", \" \").replace(\"\\r\", \" \")\n",
    "        sample_data = re.sub('[-=+,#/\\?:^$.@*\\\"※~&%ㆍ!』\\\\‘|\\(\\)\\[\\]\\<\\>`\\'…》]', '', sample_data)\n",
    "        sample_data = sample_data.split()\n",
    "        parsed_data = []\n",
    "\n",
    "        for each in sample_data:\n",
    "            if each != \" \":\n",
    "                parsed_data.append(each)\n",
    "                \n",
    "        for i, data in enumerate(parsed_data[:-2]):\n",
    "            temp_unigram = data\n",
    "            temp_bigram = data + \" \" + parsed_data[i + 1]\n",
    "            temp_trigram = data + \" \" + parsed_data[i + 1] + \" \" + parsed_data[i + 2]\n",
    "            \n",
    "            if temp_unigram not in self.unigram_count:\n",
    "                self.unigram_count[temp_unigram] = 1\n",
    "            else:\n",
    "                self.unigram_count[temp_unigram] += 1\n",
    "            \n",
    "            if temp_bigram not in self.bigram_count:\n",
    "                self.bigram_count[temp_bigram] = 1\n",
    "            else:\n",
    "                self.bigram_count[temp_bigram] += 1\n",
    "            \n",
    "            if temp_trigram not in self.trigram_count:\n",
    "                self.trigram_count[temp_trigram] = 1\n",
    "            else:\n",
    "                self.trigram_count[temp_trigram] += 1\n",
    "        \n",
    "        if parsed_data[-2] not in self.unigram_count:\n",
    "            self.unigram_count[parsed_data[-2]] = 1\n",
    "        else:\n",
    "            self.unigram_count[parsed_data[-2]] += 1\n",
    "        if parsed_data[-1] not in self.unigram_count:\n",
    "            self.unigram_count[parsed_data[-1]] = 1\n",
    "        else:\n",
    "            self.unigram_count[parsed_data[-1]] += 1\n",
    "            \n",
    "        if parsed_data[-2] + \" \" + parsed_data[-1] not in self.bigram_count:\n",
    "            self.bigram_count[parsed_data[-2] + \" \" + parsed_data[-1]] = 1\n",
    "        else:\n",
    "            self.bigram_count[parsed_data[-2] + \" \" + parsed_data[-1]] += 1\n",
    "        return parsed_data\n",
    "    \n",
    "    def main(self):\n",
    "        start = time.time()\n",
    "        self.parse_and_count()\n",
    "        save_counts_wordcloud.save_counts_wordcloud(self.unigram_count, self.bigram_count, self.trigram_count)\n",
    "        print(\"parse, count, wordcloud time:\", time.time() - start)\n",
    "        \n",
    "        "
   ]
  },
  {
   "cell_type": "code",
   "execution_count": 3,
   "metadata": {},
   "outputs": [
    {
     "name": "stdout",
     "output_type": "stream",
     "text": [
      "parse, count, wordcloud time: 131.58338046073914\n"
     ]
    }
   ],
   "source": [
    "if __name__ == \"__main__\":\n",
    "    f = open(\"../KCCq28.txt\", 'r', encoding=\"utf-8\")\n",
    "    txt = f.read()\n",
    "    f.close()\n",
    "    ngram = Ngram(txt)\n",
    "    ngram.main()\n",
    "    del ngram"
   ]
  },
  {
   "cell_type": "code",
   "execution_count": null,
   "metadata": {},
   "outputs": [],
   "source": []
  }
 ],
 "metadata": {
  "kernelspec": {
   "display_name": "Python 3",
   "language": "python",
   "name": "python3"
  },
  "language_info": {
   "codemirror_mode": {
    "name": "ipython",
    "version": 3
   },
   "file_extension": ".py",
   "mimetype": "text/x-python",
   "name": "python",
   "nbconvert_exporter": "python",
   "pygments_lexer": "ipython3",
   "version": "3.6.7"
  }
 },
 "nbformat": 4,
 "nbformat_minor": 2
}
